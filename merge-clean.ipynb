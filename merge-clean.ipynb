{
 "metadata": {
  "language_info": {
   "codemirror_mode": {
    "name": "ipython",
    "version": 3
   },
   "file_extension": ".py",
   "mimetype": "text/x-python",
   "name": "python",
   "nbconvert_exporter": "python",
   "pygments_lexer": "ipython3",
   "version": "3.7.6-final"
  },
  "orig_nbformat": 2,
  "kernelspec": {
   "name": "python3",
   "display_name": "Python 3"
  }
 },
 "nbformat": 4,
 "nbformat_minor": 2,
 "cells": [
  {
   "cell_type": "code",
   "execution_count": 20,
   "metadata": {},
   "outputs": [],
   "source": [
    "import matplotlib.pyplot as plt\n",
    "import pandas as pd\n",
    "import numpy as np\n",
    "import os\n",
    "from scipy.stats import linregress\n",
    "import datetime\n",
    "from sqlalchemy import create_engine\n",
    "import psycopg2"
   ]
  },
  {
   "cell_type": "code",
   "execution_count": 21,
   "metadata": {},
   "outputs": [],
   "source": [
    "#Reading in Elections CSV files\n",
    "election_2016_path = \"data/countypres_2000-2016.csv\"\n",
    "election_2016_df = pd.read_csv(election_2016_path)\n",
    "\n",
    "election_2020_path= \"data/pres20results.csv\"\n",
    "election_2020_df = pd.read_csv(election_2020_path)"
   ]
  },
  {
   "cell_type": "code",
   "execution_count": 22,
   "metadata": {},
   "outputs": [],
   "source": [
    "#Adding a year column to the election 2020 dataframe\n",
    "election_2020_df['year']=np.nan\n",
    "\n",
    "#Filling in the year as 2020 in the 2020 dataframe\n",
    "election_2020_df['year']=election_2020_df.year.fillna(2020)\n"
   ]
  },
  {
   "cell_type": "code",
   "execution_count": 23,
   "metadata": {},
   "outputs": [
    {
     "output_type": "execute_result",
     "data": {
      "text/plain": [
       "year                int64\n",
       "state              object\n",
       "state_po           object\n",
       "county             object\n",
       "FIPS              float64\n",
       "office             object\n",
       "candidate          object\n",
       "party              object\n",
       "candidatevotes    float64\n",
       "totalvotes          int64\n",
       "version             int64\n",
       "dtype: object"
      ]
     },
     "metadata": {},
     "execution_count": 23
    }
   ],
   "source": [
    "election_2016_df.dtypes"
   ]
  },
  {
   "cell_type": "code",
   "execution_count": 24,
   "metadata": {},
   "outputs": [],
   "source": [
    "#eliminating unecessary columns for election 2016 dataframe\n",
    "election_2016_df = election_2016_df.drop(columns=['state_po','FIPS','office','version','totalvotes'])"
   ]
  },
  {
   "cell_type": "code",
   "execution_count": 25,
   "metadata": {},
   "outputs": [],
   "source": [
    "#renaming total_votes to candidatevotes in election_2020_df\n",
    "election_2020_df = election_2020_df.rename(columns={'total_votes': 'candidatevotes'})\n",
    "\n",
    "#dropping unecessary columns for election 2020 dataframe\n",
    "election_2020_df=election_2020_df.drop(columns=['won'])"
   ]
  },
  {
   "cell_type": "code",
   "execution_count": 26,
   "metadata": {},
   "outputs": [
    {
     "output_type": "execute_result",
     "data": {
      "text/plain": [
       "state              object\n",
       "county             object\n",
       "candidate          object\n",
       "party              object\n",
       "candidatevotes      int64\n",
       "year              float64\n",
       "dtype: object"
      ]
     },
     "metadata": {},
     "execution_count": 26
    }
   ],
   "source": [
    "election_2020_df.dtypes"
   ]
  },
  {
   "cell_type": "code",
   "execution_count": 27,
   "metadata": {},
   "outputs": [],
   "source": [
    "#merge the 2 dataframes with an outer join\n",
    "election_merged_df = pd.merge(election_2016_df, election_2020_df, how='outer')"
   ]
  },
  {
   "cell_type": "code",
   "execution_count": 28,
   "metadata": {},
   "outputs": [
    {
     "output_type": "execute_result",
     "data": {
      "text/plain": [
       "year                int64\n",
       "state              object\n",
       "county             object\n",
       "candidate          object\n",
       "party              object\n",
       "candidatevotes    float64\n",
       "dtype: object"
      ]
     },
     "metadata": {},
     "execution_count": 28
    }
   ],
   "source": [
    "election_merged_df.dtypes"
   ]
  },
  {
   "cell_type": "code",
   "execution_count": 29,
   "metadata": {},
   "outputs": [],
   "source": [
    "#getting rid of all presidential data prior to 2016\n",
    "election_merged_df.drop(election_merged_df[election_merged_df['year'] < 2016].index, inplace = True) "
   ]
  },
  {
   "cell_type": "code",
   "execution_count": 30,
   "metadata": {},
   "outputs": [],
   "source": [
    "#converting democrat and republican from 2016 files to match 2020 data\n",
    "election_merged_df = election_merged_df.replace({'democrat':\"DEM\",'republican':\"REP\"})"
   ]
  },
  {
   "cell_type": "code",
   "execution_count": 31,
   "metadata": {},
   "outputs": [],
   "source": [
    "#dropping all write in candidates from 2020 data\n",
    "election_merged_df.drop(election_merged_df[election_merged_df['party'] == \"WRI\"].index, inplace = True) "
   ]
  },
  {
   "cell_type": "code",
   "execution_count": 34,
   "metadata": {},
   "outputs": [],
   "source": [
    "#dropping all candidates that had 0 votes in a county \n",
    "election_merged_df.drop(election_merged_df[election_merged_df['candidatevotes'] == 0].index, inplace = True)"
   ]
  },
  {
   "source": [
    "#dropping all candidates that had less than 10 votes in a county\n",
    "election_merged_df.drop(election_merged_df[election_merged_df['candidatevotes'] < 10].index, inplace = True) "
   ],
   "cell_type": "markdown",
   "metadata": {}
  },
  {
   "cell_type": "code",
   "execution_count": 36,
   "metadata": {},
   "outputs": [],
   "source": [
    "#write the df to a csv file \n",
    "election_merged_df.to_csv(\"election_merged_df.csv\")"
   ]
  },
  {
   "cell_type": "code",
   "execution_count": null,
   "metadata": {},
   "outputs": [],
   "source": []
  }
 ]
}