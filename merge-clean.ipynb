{
 "metadata": {
  "language_info": {
   "codemirror_mode": {
    "name": "ipython",
    "version": 3
   },
   "file_extension": ".py",
   "mimetype": "text/x-python",
   "name": "python",
   "nbconvert_exporter": "python",
   "pygments_lexer": "ipython3",
   "version": "3.7.6-final"
  },
  "orig_nbformat": 2,
  "kernelspec": {
   "name": "python3",
   "display_name": "Python 3"
  }
 },
 "nbformat": 4,
 "nbformat_minor": 2,
 "cells": [
  {
   "cell_type": "code",
   "execution_count": 110,
   "metadata": {},
   "outputs": [],
   "source": [
    "import matplotlib.pyplot as plt\n",
    "import pandas as pd\n",
    "import numpy as np\n",
    "import os\n",
    "from scipy.stats import linregress\n",
    "import datetime\n",
    "from sqlalchemy import create_engine\n",
    "import psycopg2"
   ]
  },
  {
   "cell_type": "code",
   "execution_count": 111,
   "metadata": {},
   "outputs": [],
   "source": [
    "#Reading in Elections CSV files\n",
    "election_2016_path = \"data/countypres_2000-2016.csv\"\n",
    "election_2016_df = pd.read_csv(election_2016_path)\n",
    "\n",
    "election_2020_path= \"data/pres20results.csv\"\n",
    "election_2020_df = pd.read_csv(election_2020_path)\n",
    "\n",
    "election_2020_total_votes= \"data/president_county20.csv\"\n",
    "election_2020_total_votes_df = pd.read_csv(election_2020_total_votes)"
   ]
  },
  {
   "cell_type": "code",
   "execution_count": 112,
   "metadata": {},
   "outputs": [],
   "source": [
    "#Adding a year column to the election 2020 dataframe\n",
    "election_2020_df['year']=np.nan\n",
    "\n",
    "#Filling in the year as 2020 in the 2020 dataframe\n",
    "election_2020_df['year']=election_2020_df.year.fillna(2020)\n"
   ]
  },
  {
   "cell_type": "code",
   "execution_count": 113,
   "metadata": {},
   "outputs": [],
   "source": [
    "#eliminating unecessary columns for election 2016 dataframe\n",
    "election_2016_df = election_2016_df.drop(columns=['state_po','FIPS','office','version'])"
   ]
  },
  {
   "cell_type": "code",
   "execution_count": 114,
   "metadata": {},
   "outputs": [],
   "source": [
    "election_2020_total_votes_df = election_2020_total_votes_df.rename(columns={'current_votes': 'totalvotes'})"
   ]
  },
  {
   "cell_type": "code",
   "execution_count": 115,
   "metadata": {},
   "outputs": [],
   "source": [
    "#cleaning data from the 2020 total votes dataframe\n",
    "election_2020_total_votes_df = election_2020_total_votes_df.drop(columns=['total_votes','percent'])"
   ]
  },
  {
   "cell_type": "code",
   "execution_count": 116,
   "metadata": {},
   "outputs": [],
   "source": [
    "#mergring total votes into the 2020 candidate results information\n",
    "election_2020_merged_df = pd.merge(election_2020_df, election_2020_total_votes_df, how='outer')"
   ]
  },
  {
   "cell_type": "code",
   "execution_count": 117,
   "metadata": {},
   "outputs": [],
   "source": [
    "#cleaning data and getting rid of win column\n",
    "election_2020_merged_df = election_2020_merged_df.drop(columns=['won'])\n",
    "\n",
    "election_2020_merged_df = election_2020_merged_df.rename(columns={'total_votes' : 'candidatevotes'})"
   ]
  },
  {
   "cell_type": "code",
   "execution_count": 118,
   "metadata": {},
   "outputs": [
    {
     "output_type": "stream",
     "name": "stdout",
     "text": [
      "1854\n1854\n"
     ]
    }
   ],
   "source": [
    "#confirming the total counties in each voting year match\n",
    "county_count_2016 = len(election_2016_df[\"county\"].unique())\n",
    "county_count_2020 = len(election_2016_df[\"county\"].unique())\n",
    "print(county_count_2016)\n",
    "print(county_count_2020)"
   ]
  },
  {
   "cell_type": "code",
   "execution_count": 119,
   "metadata": {},
   "outputs": [],
   "source": [
    "#merge the 2 dataframes with an outer join\n",
    "election_merged_df = pd.merge(election_2016_df, election_2020_merged_df, how='outer')"
   ]
  },
  {
   "cell_type": "code",
   "execution_count": 120,
   "metadata": {},
   "outputs": [],
   "source": [
    "#getting rid of all presidential data prior to 2016\n",
    "election_merged_df.drop(election_merged_df[election_merged_df['year'] < 2016].index, inplace = True) "
   ]
  },
  {
   "cell_type": "code",
   "execution_count": 121,
   "metadata": {},
   "outputs": [],
   "source": [
    "election_2020_merged_df.reset_index(drop=True, inplace=True)"
   ]
  },
  {
   "cell_type": "code",
   "execution_count": 122,
   "metadata": {},
   "outputs": [],
   "source": [
    "#converting democrat and republican from 2016 files to match 2020 data\n",
    "election_merged_df = election_merged_df.replace({'democrat':\"DEM\",'republican':\"REP\"})"
   ]
  },
  {
   "cell_type": "code",
   "execution_count": 123,
   "metadata": {},
   "outputs": [],
   "source": [
    "#dropping all write in candidates from 2020 data\n",
    "election_merged_df.drop(election_merged_df[election_merged_df['party'] == \"WRI\"].index, inplace = True) "
   ]
  },
  {
   "cell_type": "code",
   "execution_count": 124,
   "metadata": {},
   "outputs": [],
   "source": [
    "#dropping all candidates that had 0 votes in a county \n",
    "election_merged_df.drop(election_merged_df[election_merged_df['candidatevotes'] == 0].index, inplace = True)"
   ]
  },
  {
   "cell_type": "code",
   "execution_count": 125,
   "metadata": {},
   "outputs": [],
   "source": [
    "remove = ['LIB', 'GRN', 'WRI', 'PSL', 'IND', 'ALI', 'CST',\n",
    "       'ASP', 'OTH', 'UTY', 'LLC', 'SWP', 'BAR', 'PRO', 'NON', 'PRG',\n",
    "       'UNA', 'BMP', 'GOP', 'BFP', 'APV', 'IAP', 'LLP', 'SEP']\n",
    "election_merged_df = election_merged_df[~election_merged_df['party'].isin(remove)]"
   ]
  },
  {
   "cell_type": "code",
   "execution_count": 126,
   "metadata": {},
   "outputs": [],
   "source": [
    "election_merged_df = election_merged_df[~election_merged_df.candidate.str.contains(\"Other\")]"
   ]
  },
  {
   "source": [
    "#drop the index column\n",
    "election_merged_df.drop(election_merged_df[election_merged_df['year'] < 2016].index, inplace = True) "
   ],
   "cell_type": "code",
   "metadata": {},
   "execution_count": 127,
   "outputs": []
  },
  {
   "cell_type": "code",
   "execution_count": 128,
   "metadata": {},
   "outputs": [
    {
     "output_type": "execute_result",
     "data": {
      "text/plain": [
       "       index  year    state           county        candidate party  \\\n",
       "0      41050  2016  Alabama          Autauga  Hillary Clinton   DEM   \n",
       "1      41051  2016  Alabama          Autauga     Donald Trump   REP   \n",
       "2      41053  2016  Alabama          Baldwin  Hillary Clinton   DEM   \n",
       "3      41054  2016  Alabama          Baldwin     Donald Trump   REP   \n",
       "4      41056  2016  Alabama          Barbour  Hillary Clinton   DEM   \n",
       "...      ...   ...      ...              ...              ...   ...   \n",
       "15296  81664  2020  Arizona    La Paz County        Joe Biden   DEM   \n",
       "15297  81666  2020  Arizona  Maricopa County        Joe Biden   DEM   \n",
       "15298  81667  2020  Arizona  Maricopa County     Donald Trump   REP   \n",
       "15299  81669  2020  Arizona    Mohave County     Donald Trump   REP   \n",
       "15300  81670  2020  Arizona    Mohave County        Joe Biden   DEM   \n",
       "\n",
       "       candidatevotes  totalvotes  \n",
       "0              5936.0       24973  \n",
       "1             18172.0       24973  \n",
       "2             18458.0       95215  \n",
       "3             72883.0       95215  \n",
       "4              4871.0       10469  \n",
       "...               ...         ...  \n",
       "15296          2236.0        7458  \n",
       "15297       1040774.0     2068144  \n",
       "15298        995665.0     2068144  \n",
       "15299         78535.0      104668  \n",
       "15300         24831.0      104668  \n",
       "\n",
       "[15301 rows x 8 columns]"
      ],
      "text/html": "<div>\n<style scoped>\n    .dataframe tbody tr th:only-of-type {\n        vertical-align: middle;\n    }\n\n    .dataframe tbody tr th {\n        vertical-align: top;\n    }\n\n    .dataframe thead th {\n        text-align: right;\n    }\n</style>\n<table border=\"1\" class=\"dataframe\">\n  <thead>\n    <tr style=\"text-align: right;\">\n      <th></th>\n      <th>index</th>\n      <th>year</th>\n      <th>state</th>\n      <th>county</th>\n      <th>candidate</th>\n      <th>party</th>\n      <th>candidatevotes</th>\n      <th>totalvotes</th>\n    </tr>\n  </thead>\n  <tbody>\n    <tr>\n      <th>0</th>\n      <td>41050</td>\n      <td>2016</td>\n      <td>Alabama</td>\n      <td>Autauga</td>\n      <td>Hillary Clinton</td>\n      <td>DEM</td>\n      <td>5936.0</td>\n      <td>24973</td>\n    </tr>\n    <tr>\n      <th>1</th>\n      <td>41051</td>\n      <td>2016</td>\n      <td>Alabama</td>\n      <td>Autauga</td>\n      <td>Donald Trump</td>\n      <td>REP</td>\n      <td>18172.0</td>\n      <td>24973</td>\n    </tr>\n    <tr>\n      <th>2</th>\n      <td>41053</td>\n      <td>2016</td>\n      <td>Alabama</td>\n      <td>Baldwin</td>\n      <td>Hillary Clinton</td>\n      <td>DEM</td>\n      <td>18458.0</td>\n      <td>95215</td>\n    </tr>\n    <tr>\n      <th>3</th>\n      <td>41054</td>\n      <td>2016</td>\n      <td>Alabama</td>\n      <td>Baldwin</td>\n      <td>Donald Trump</td>\n      <td>REP</td>\n      <td>72883.0</td>\n      <td>95215</td>\n    </tr>\n    <tr>\n      <th>4</th>\n      <td>41056</td>\n      <td>2016</td>\n      <td>Alabama</td>\n      <td>Barbour</td>\n      <td>Hillary Clinton</td>\n      <td>DEM</td>\n      <td>4871.0</td>\n      <td>10469</td>\n    </tr>\n    <tr>\n      <th>...</th>\n      <td>...</td>\n      <td>...</td>\n      <td>...</td>\n      <td>...</td>\n      <td>...</td>\n      <td>...</td>\n      <td>...</td>\n      <td>...</td>\n    </tr>\n    <tr>\n      <th>15296</th>\n      <td>81664</td>\n      <td>2020</td>\n      <td>Arizona</td>\n      <td>La Paz County</td>\n      <td>Joe Biden</td>\n      <td>DEM</td>\n      <td>2236.0</td>\n      <td>7458</td>\n    </tr>\n    <tr>\n      <th>15297</th>\n      <td>81666</td>\n      <td>2020</td>\n      <td>Arizona</td>\n      <td>Maricopa County</td>\n      <td>Joe Biden</td>\n      <td>DEM</td>\n      <td>1040774.0</td>\n      <td>2068144</td>\n    </tr>\n    <tr>\n      <th>15298</th>\n      <td>81667</td>\n      <td>2020</td>\n      <td>Arizona</td>\n      <td>Maricopa County</td>\n      <td>Donald Trump</td>\n      <td>REP</td>\n      <td>995665.0</td>\n      <td>2068144</td>\n    </tr>\n    <tr>\n      <th>15299</th>\n      <td>81669</td>\n      <td>2020</td>\n      <td>Arizona</td>\n      <td>Mohave County</td>\n      <td>Donald Trump</td>\n      <td>REP</td>\n      <td>78535.0</td>\n      <td>104668</td>\n    </tr>\n    <tr>\n      <th>15300</th>\n      <td>81670</td>\n      <td>2020</td>\n      <td>Arizona</td>\n      <td>Mohave County</td>\n      <td>Joe Biden</td>\n      <td>DEM</td>\n      <td>24831.0</td>\n      <td>104668</td>\n    </tr>\n  </tbody>\n</table>\n<p>15301 rows × 8 columns</p>\n</div>"
     },
     "metadata": {},
     "execution_count": 128
    }
   ],
   "source": [
    "#resetting the index column\n",
    "election_merged_df.reset_index()"
   ]
  },
  {
   "source": [
    "#creating the ID column for the df\n",
    "election_merged_df.insert(0, 'ID', range(1, 1 + len(election_merged_df)))"
   ],
   "cell_type": "code",
   "metadata": {},
   "execution_count": 129,
   "outputs": []
  },
  {
   "cell_type": "code",
   "execution_count": 130,
   "metadata": {},
   "outputs": [],
   "source": [
    "#dropping county from the 2020 data \n",
    "election_merged_df['county']=election_merged_df['county'].str.replace('County','')"
   ]
  },
  {
   "cell_type": "code",
   "execution_count": 131,
   "metadata": {},
   "outputs": [],
   "source": [
    "#combining the state and county column\n",
    "election_merged_df['county_state']=election_merged_df['county'] +\",\"+ election_merged_df['state']\n",
    "\n",
    "#dropping the county and state columns\n",
    "election_merged_df= election_merged_df.drop(columns = ['county','state'])"
   ]
  },
  {
   "source": [
    "#write the df to a csv file \n",
    "election_merged_df.to_csv(\"election_merged_df.csv\", index=False)"
   ],
   "cell_type": "code",
   "metadata": {},
   "execution_count": 132,
   "outputs": []
  },
  {
   "cell_type": "code",
   "execution_count": 133,
   "metadata": {},
   "outputs": [],
   "source": [
    "#creating the candidate table for postgres\n",
    "candidates = {'candidate_ID':  ['c1', 'c2','c3'],\n",
    "        'candidate_name': ['Donald Trump', 'Hilary Clinton','Joe Biden'],\n",
    "         'party_ID' : ['p1','p2','p2']}\n",
    "\n",
    "candidates = pd.DataFrame(candidates, columns= ['candidate_ID','candidate_name','party_ID'])\n",
    "\n",
    "#writing the candidate df to csv\n",
    "candidates.to_csv(\"SQL_Data/candidates.csv\", index=False)"
   ]
  },
  {
   "cell_type": "code",
   "execution_count": 134,
   "metadata": {},
   "outputs": [],
   "source": [
    "#replacing candidates with the candidate_IDs in election_merged_df\n",
    "election_merged_df = election_merged_df.replace({'Donald Trump':\"c1\",'Hillary Clinton':\"c2\",'Joe Biden':\"c3\"})"
   ]
  },
  {
   "cell_type": "code",
   "execution_count": 135,
   "metadata": {},
   "outputs": [],
   "source": [
    "#creating the parties table for postgres\n",
    "parties = {'party_ID':  ['p1', 'p2'],\n",
    "        'party_name': ['republican', 'democrat']}\n",
    "parties = pd.DataFrame(parties, columns= ['party_ID','party_name'])\n",
    "\n",
    "#writing the parties df to csv\n",
    "parties.to_csv(\"SQL_Data/parties.csv\", index=False)"
   ]
  },
  {
   "cell_type": "code",
   "execution_count": 136,
   "metadata": {},
   "outputs": [],
   "source": [
    "#replacing parties with the party_IDs in election_merged_df\n",
    "election_merged_df = election_merged_df.replace({'REP':\"p1\",'DEM':\"p2\"})"
   ]
  },
  {
   "source": [
    "#Creating county_state dataframe for import to postgres\n",
    "county_state_df = election_merged_df.drop(columns = ['ID','year','candidate','party','candidatevotes','totalvotes'])\n",
    "county_state_df = county_state_df.drop_duplicates()\n",
    "county_state_df.rename(columns={'county_state' : 'county_state_ID'})\n",
    "county_state_df.insert(0, 'county_state_ID', range(1, 1 + len(county_state_df)))\n",
    "\n",
    "#writing the county_state df to csv\n",
    "county_state_df.to_csv(\"SQL_Data/county_state.csv\", index=False)"
   ],
   "cell_type": "code",
   "metadata": {},
   "execution_count": 137,
   "outputs": []
  },
  {
   "cell_type": "code",
   "execution_count": 138,
   "metadata": {},
   "outputs": [],
   "source": [
    "#making a renaming dictionary to replace values in election_merged_df\n",
    "rename_dict = county_state_df.set_index('county_state').to_dict()['county_state_ID']\n",
    "election_merged_df = election_merged_df.replace(rename_dict)"
   ]
  },
  {
   "cell_type": "code",
   "execution_count": 139,
   "metadata": {},
   "outputs": [],
   "source": [
    "#making county_votes_df to pass into CSV for postgres\n",
    "county_votes_df = election_merged_df.drop(columns = ['ID','party'])\n",
    "county_votes_df = county_votes_df.rename(columns={'county_state' : 'county_state_ID','candidate':'candidate_ID','totalvotes':'total_votes','candidatevotes':'candidate_votes'})\n",
    "\n",
    "#writing the parties df to csv\n",
    "county_votes_df.to_csv(\"SQL_Data/county_votes.csv\", index=False)"
   ]
  },
  {
   "cell_type": "code",
   "execution_count": null,
   "metadata": {},
   "outputs": [],
   "source": []
  }
 ]
}