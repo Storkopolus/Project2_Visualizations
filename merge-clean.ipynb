{
 "metadata": {
  "language_info": {
   "codemirror_mode": {
    "name": "ipython",
    "version": 3
   },
   "file_extension": ".py",
   "mimetype": "text/x-python",
   "name": "python",
   "nbconvert_exporter": "python",
   "pygments_lexer": "ipython3",
   "version": "3.7.6-final"
  },
  "orig_nbformat": 2,
  "kernelspec": {
   "name": "python3",
   "display_name": "Python 3"
  }
 },
 "nbformat": 4,
 "nbformat_minor": 2,
 "cells": [
  {
   "cell_type": "code",
   "execution_count": 132,
   "metadata": {},
   "outputs": [],
   "source": [
    "import matplotlib.pyplot as plt\n",
    "import pandas as pd\n",
    "import numpy as np\n",
    "import os\n",
    "from scipy.stats import linregress\n",
    "import datetime\n",
    "from sqlalchemy import create_engine\n",
    "import psycopg2"
   ]
  },
  {
   "cell_type": "code",
   "execution_count": 133,
   "metadata": {},
   "outputs": [],
   "source": [
    "#Reading in Elections CSV files\n",
    "election_2016_path = \"data/countypres_2000-2016.csv\"\n",
    "election_2016_df = pd.read_csv(election_2016_path)\n",
    "\n",
    "election_2020_path= \"data/pres20results.csv\"\n",
    "election_2020_df = pd.read_csv(election_2020_path)\n",
    "\n",
    "election_2020_total_votes= \"data/president_county20.csv\"\n",
    "election_2020_total_votes_df = pd.read_csv(election_2020_total_votes)"
   ]
  },
  {
   "cell_type": "code",
   "execution_count": 134,
   "metadata": {},
   "outputs": [],
   "source": [
    "#Adding a year column to the election 2020 dataframe\n",
    "election_2020_df['year']=np.nan\n",
    "\n",
    "#Filling in the year as 2020 in the 2020 dataframe\n",
    "election_2020_df['year']=election_2020_df.year.fillna(2020)\n"
   ]
  },
  {
   "cell_type": "code",
   "execution_count": 135,
   "metadata": {},
   "outputs": [
    {
     "output_type": "execute_result",
     "data": {
      "text/plain": [
       "year                int64\n",
       "state              object\n",
       "state_po           object\n",
       "county             object\n",
       "FIPS              float64\n",
       "office             object\n",
       "candidate          object\n",
       "party              object\n",
       "candidatevotes    float64\n",
       "totalvotes          int64\n",
       "version             int64\n",
       "dtype: object"
      ]
     },
     "metadata": {},
     "execution_count": 135
    }
   ],
   "source": [
    "election_2016_df.dtypes"
   ]
  },
  {
   "cell_type": "code",
   "execution_count": 136,
   "metadata": {},
   "outputs": [],
   "source": [
    "#eliminating unecessary columns for election 2016 dataframe\n",
    "election_2016_df = election_2016_df.drop(columns=['state_po','FIPS','office','version'])"
   ]
  },
  {
   "cell_type": "code",
   "execution_count": 137,
   "metadata": {},
   "outputs": [],
   "source": [
    "election_2020_total_votes_df = election_2020_total_votes_df.rename(columns={'current_votes': 'totalvotes'})"
   ]
  },
  {
   "cell_type": "code",
   "execution_count": 138,
   "metadata": {},
   "outputs": [],
   "source": [
    "#cleaning data from the 2020 total votes dataframe\n",
    "election_2020_total_votes_df = election_2020_total_votes_df.drop(columns=['total_votes','percent'])"
   ]
  },
  {
   "cell_type": "code",
   "execution_count": 139,
   "metadata": {},
   "outputs": [],
   "source": [
    "#mergring total votes into the 2020 candidate results information\n",
    "election_2020_merged_df = pd.merge(election_2020_df, election_2020_total_votes_df, how='outer')"
   ]
  },
  {
   "cell_type": "code",
   "execution_count": 140,
   "metadata": {},
   "outputs": [],
   "source": [
    "#cleaning data and getting rid of win column\n",
    "election_2020_merged_df = election_2020_merged_df.drop(columns=['won'])\n",
    "\n",
    "election_2020_merged_df = election_2020_merged_df.rename(columns={'total_votes' : 'candidatevotes'})"
   ]
  },
  {
   "cell_type": "code",
   "execution_count": 141,
   "metadata": {},
   "outputs": [
    {
     "output_type": "stream",
     "name": "stdout",
     "text": [
      "1854\n1854\n"
     ]
    }
   ],
   "source": [
    "#confirming the total counties in each voting year match\n",
    "county_count_2016 = len(election_2016_df[\"county\"].unique())\n",
    "county_count_2020 = len(election_2016_df[\"county\"].unique())\n",
    "print(county_count_2016)\n",
    "print(county_count_2020)"
   ]
  },
  {
   "cell_type": "code",
   "execution_count": 142,
   "metadata": {},
   "outputs": [],
   "source": [
    "#merge the 2 dataframes with an outer join\n",
    "election_merged_df = pd.merge(election_2016_df, election_2020_merged_df, how='outer')"
   ]
  },
  {
   "cell_type": "code",
   "execution_count": 143,
   "metadata": {},
   "outputs": [],
   "source": [
    "#getting rid of all presidential data prior to 2016\n",
    "election_merged_df.drop(election_merged_df[election_merged_df['year'] < 2016].index, inplace = True) "
   ]
  },
  {
   "cell_type": "code",
   "execution_count": 144,
   "metadata": {},
   "outputs": [],
   "source": [
    "#converting democrat and republican from 2016 files to match 2020 data\n",
    "election_merged_df = election_merged_df.replace({'democrat':\"DEM\",'republican':\"REP\"})"
   ]
  },
  {
   "cell_type": "code",
   "execution_count": 145,
   "metadata": {},
   "outputs": [],
   "source": [
    "#dropping all write in candidates from 2020 data\n",
    "election_merged_df.drop(election_merged_df[election_merged_df['party'] == \"WRI\"].index, inplace = True) "
   ]
  },
  {
   "cell_type": "code",
   "execution_count": 146,
   "metadata": {},
   "outputs": [],
   "source": [
    "#dropping all candidates that had 0 votes in a county \n",
    "election_merged_df.drop(election_merged_df[election_merged_df['candidatevotes'] == 0].index, inplace = True)"
   ]
  },
  {
   "cell_type": "code",
   "execution_count": 147,
   "metadata": {},
   "outputs": [],
   "source": [
    "remove = ['LIB', 'GRN', 'WRI', 'PSL', 'IND', 'ALI', 'CST',\n",
    "       'ASP', 'OTH', 'UTY', 'LLC', 'SWP', 'BAR', 'PRO', 'NON', 'PRG',\n",
    "       'UNA', 'BMP', 'GOP', 'BFP', 'APV', 'IAP', 'LLP', 'SEP']\n",
    "election_merged_df = election_merged_df[~election_merged_df['party'].isin(remove)]"
   ]
  },
  {
   "cell_type": "code",
   "execution_count": 153,
   "metadata": {},
   "outputs": [],
   "source": [
    "election_merged_df = election_merged_df[~election_merged_df.candidate.str.contains(\"Other\")]"
   ]
  },
  {
   "cell_type": "code",
   "execution_count": 148,
   "metadata": {},
   "outputs": [],
   "source": [
    "#write the df to a csv file \n",
    "election_merged_df.to_csv(\"election_merged_df.csv\")"
   ]
  },
  {
   "cell_type": "code",
   "execution_count": null,
   "metadata": {},
   "outputs": [],
   "source": []
  }
 ]
}